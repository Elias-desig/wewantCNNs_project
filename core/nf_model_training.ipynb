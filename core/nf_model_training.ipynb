{
 "cells": [
  {
   "metadata": {},
   "cell_type": "markdown",
   "source": "### Loading the Data",
   "id": "742758f5fd92e00d"
  },
  {
   "metadata": {
    "ExecuteTime": {
     "end_time": "2025-07-30T21:18:12.014269Z",
     "start_time": "2025-07-30T21:17:09.514361Z"
    }
   },
   "cell_type": "code",
   "source": [
    "import os\n",
    "from audio_image_pipeline import preprocess_to_hdf5\n",
    "\n",
    "# absolute path because he somehow could not find the data otherwise idk \n",
    "# here we just have our folder that contains our audio data \n",
    "audio_folder = \"/Users/koraygecimli/PycharmProjects/UDL_demo/wewantCNNs_project/data/nsynth-valid/audio\"\n",
    "\n",
    "# this is the path where we save our converted data\n",
    "output_h5_path = \"/Users/koraygecimli/PycharmProjects/UDL_demo/wewantCNNs_project/data/train_spectrograms_even.h5\"\n",
    "\n",
    "preprocess_to_hdf5(audio_folder, output_h5_path) # turns audio data into hdf5 data "
   ],
   "id": "432146d3c83f9249",
   "outputs": [
    {
     "name": "stderr",
     "output_type": "stream",
     "text": [
      "100%|██████████| 12678/12678 [01:01<00:00, 207.67it/s]"
     ]
    },
    {
     "name": "stdout",
     "output_type": "stream",
     "text": [
      "Preprocessed 12678 files to /Users/koraygecimli/PycharmProjects/UDL_demo/wewantCNNs_project/data/train_spectrograms_even.h5\n"
     ]
    },
    {
     "name": "stderr",
     "output_type": "stream",
     "text": [
      "\n"
     ]
    }
   ],
   "execution_count": 5
  },
  {
   "metadata": {},
   "cell_type": "markdown",
   "source": "### Training",
   "id": "62d12d7539373e63"
  },
  {
   "cell_type": "code",
   "id": "initial_id",
   "metadata": {
    "collapsed": true,
    "ExecuteTime": {
     "end_time": "2025-07-30T22:22:13.937726Z",
     "start_time": "2025-07-30T21:54:04.834763Z"
    }
   },
   "source": [
    "import torch\n",
    "from torch.utils.data import DataLoader\n",
    "from datasets import HDF5SpectrogramDataset\n",
    "from nf_training_script import train_model  \n",
    "\n",
    "device = torch.device('cuda' if torch.cuda.is_available() else 'cpu')\n",
    "print(f\"Using device: {device}\")\n",
    "\n",
    "train_data = HDF5SpectrogramDataset('/Users/koraygecimli/PycharmProjects/UDL_demo/wewantCNNs_project/data/train_spectrograms_even.h5')\n",
    "\n",
    "train_loader = DataLoader( # again inspired by vae model \n",
    "    train_data,\n",
    "    batch_size=32,  \n",
    "    shuffle=True,\n",
    "    pin_memory=True,\n",
    "    num_workers=0,\n",
    "    persistent_workers=False,\n",
    "    prefetch_factor=None,\n",
    ")\n",
    "\n",
    "input_dim = train_data[0].numel()\n",
    "trained_model = train_model(train_loader, input_dim=input_dim)"
   ],
   "outputs": [
    {
     "name": "stdout",
     "output_type": "stream",
     "text": [
      "Using device: cpu\n",
      "Epoch 1/20, Loss: -86984.0351\n",
      "Checkpoint saved at epoch 1\n",
      "Epoch 2/20, Loss: -89818.1605\n",
      "Checkpoint saved at epoch 2\n",
      "Epoch 3/20, Loss: -89838.4914\n",
      "Checkpoint saved at epoch 3\n",
      "Epoch 4/20, Loss: -89844.4751\n",
      "Checkpoint saved at epoch 4\n",
      "Epoch 5/20, Loss: -89847.0940\n",
      "Checkpoint saved at epoch 5\n",
      "Epoch 6/20, Loss: -89848.3866\n",
      "Checkpoint saved at epoch 6\n",
      "Epoch 7/20, Loss: -89848.5950\n",
      "Checkpoint saved at epoch 7\n",
      "Epoch 8/20, Loss: -89848.5957\n",
      "Checkpoint saved at epoch 8\n",
      "Epoch 9/20, Loss: -89848.5820\n",
      "Epoch 10/20, Loss: -89848.5974\n",
      "Checkpoint saved at epoch 10\n",
      "Epoch 11/20, Loss: -89848.6133\n",
      "Checkpoint saved at epoch 11\n",
      "Epoch 12/20, Loss: -89848.5565\n",
      "Epoch 13/20, Loss: -89848.6193\n",
      "Checkpoint saved at epoch 13\n",
      "Epoch 14/20, Loss: -89848.6191\n",
      "Epoch 15/20, Loss: -89848.6191\n",
      "Epoch 16/20, Loss: -89848.6140\n",
      "Epoch 17/20, Loss: -89848.6194\n",
      "Checkpoint saved at epoch 17\n",
      "Epoch 18/20, Loss: -89848.6161\n",
      "Epoch 19/20, Loss: -89848.6229\n",
      "Checkpoint saved at epoch 19\n",
      "Epoch 20/20, Loss: -89848.6246\n",
      "Checkpoint saved at epoch 20\n"
     ]
    }
   ],
   "execution_count": 6
  },
  {
   "metadata": {
    "ExecuteTime": {
     "end_time": "2025-07-30T22:33:11.041458Z",
     "start_time": "2025-07-30T22:33:11.029205Z"
    }
   },
   "cell_type": "code",
   "source": [
    "from inference import load_nf_model\n",
    "from inference import invert_flow\n",
    "\n",
    "device = torch.device(\"mps\" if torch.backends.mps.is_available() else \"cpu\")\n",
    "model = load_nf_model()\n",
    "z_dim = model.output_layer.out_features // 2  # oder einfach input_dim aus dem Checkpoint\n",
    "z = torch.randn(2, z_dim).to(device)  # 2 Samples aus latenten Raum\n",
    "x_samples = invert_flow(model, z)\n",
    "print(x_samples.shape)\n",
    "print(x_samples)"
   ],
   "id": "848f30b1dd890fc3",
   "outputs": [
    {
     "ename": "TypeError",
     "evalue": "load_nf_model() missing 1 required positional argument: 'device'",
     "output_type": "error",
     "traceback": [
      "\u001B[0;31m---------------------------------------------------------------------------\u001B[0m",
      "\u001B[0;31mTypeError\u001B[0m                                 Traceback (most recent call last)",
      "Cell \u001B[0;32mIn[18], line 5\u001B[0m\n\u001B[1;32m      2\u001B[0m \u001B[38;5;28;01mfrom\u001B[39;00m\u001B[38;5;250m \u001B[39m\u001B[38;5;21;01minference\u001B[39;00m\u001B[38;5;250m \u001B[39m\u001B[38;5;28;01mimport\u001B[39;00m invert_flow\n\u001B[1;32m      4\u001B[0m device \u001B[38;5;241m=\u001B[39m torch\u001B[38;5;241m.\u001B[39mdevice(\u001B[38;5;124m\"\u001B[39m\u001B[38;5;124mmps\u001B[39m\u001B[38;5;124m\"\u001B[39m \u001B[38;5;28;01mif\u001B[39;00m torch\u001B[38;5;241m.\u001B[39mbackends\u001B[38;5;241m.\u001B[39mmps\u001B[38;5;241m.\u001B[39mis_available() \u001B[38;5;28;01melse\u001B[39;00m \u001B[38;5;124m\"\u001B[39m\u001B[38;5;124mcpu\u001B[39m\u001B[38;5;124m\"\u001B[39m)\n\u001B[0;32m----> 5\u001B[0m model \u001B[38;5;241m=\u001B[39m \u001B[43mload_nf_model\u001B[49m\u001B[43m(\u001B[49m\u001B[43m)\u001B[49m\n\u001B[1;32m      6\u001B[0m z_dim \u001B[38;5;241m=\u001B[39m model\u001B[38;5;241m.\u001B[39moutput_layer\u001B[38;5;241m.\u001B[39mout_features \u001B[38;5;241m/\u001B[39m\u001B[38;5;241m/\u001B[39m \u001B[38;5;241m2\u001B[39m  \u001B[38;5;66;03m# oder einfach input_dim aus dem Checkpoint\u001B[39;00m\n\u001B[1;32m      7\u001B[0m z \u001B[38;5;241m=\u001B[39m torch\u001B[38;5;241m.\u001B[39mrandn(\u001B[38;5;241m2\u001B[39m, z_dim)\u001B[38;5;241m.\u001B[39mto(device)  \u001B[38;5;66;03m# 2 Samples aus latenten Raum\u001B[39;00m\n",
      "\u001B[0;31mTypeError\u001B[0m: load_nf_model() missing 1 required positional argument: 'device'"
     ]
    }
   ],
   "execution_count": 18
  },
  {
   "metadata": {
    "ExecuteTime": {
     "end_time": "2025-07-30T22:31:16.842952Z",
     "start_time": "2025-07-30T22:31:16.840683Z"
    }
   },
   "cell_type": "code",
   "source": "",
   "id": "86859b1479f41d59",
   "outputs": [],
   "execution_count": 11
  },
  {
   "metadata": {},
   "cell_type": "code",
   "outputs": [],
   "execution_count": null,
   "source": "",
   "id": "5c5dda2df096b51a"
  }
 ],
 "metadata": {
  "kernelspec": {
   "display_name": "Python 3",
   "language": "python",
   "name": "python3"
  },
  "language_info": {
   "codemirror_mode": {
    "name": "ipython",
    "version": 2
   },
   "file_extension": ".py",
   "mimetype": "text/x-python",
   "name": "python",
   "nbconvert_exporter": "python",
   "pygments_lexer": "ipython2",
   "version": "2.7.6"
  }
 },
 "nbformat": 4,
 "nbformat_minor": 5
}
