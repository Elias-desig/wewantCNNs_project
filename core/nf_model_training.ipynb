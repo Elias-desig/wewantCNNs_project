{
 "cells": [
  {
   "metadata": {},
   "cell_type": "markdown",
   "source": "### Loading the Data",
   "id": "742758f5fd92e00d"
  },
  {
   "metadata": {
    "ExecuteTime": {
     "end_time": "2025-07-30T23:51:02.763080Z",
     "start_time": "2025-07-30T23:49:59.772886Z"
    }
   },
   "cell_type": "code",
   "source": [
    "import os\n",
    "from audio_image_pipeline import preprocess_to_hdf5\n",
    "\n",
    "# absolute path because he somehow could not find the data otherwise idk \n",
    "# here we just have our folder that contains our audio data \n",
    "audio_folder = \"/Users/koraygecimli/PycharmProjects/UDL_demo/wewantCNNs_project/data/nsynth-valid/audio\"\n",
    "\n",
    "# this is the path where we save our converted data\n",
    "output_h5_path = \"/Users/koraygecimli/PycharmProjects/UDL_demo/wewantCNNs_project/data/train_spectrograms_even.h5\"\n",
    "\n",
    "preprocess_to_hdf5(audio_folder, output_h5_path) # turns audio data into hdf5 data "
   ],
   "id": "432146d3c83f9249",
   "outputs": [
    {
     "name": "stderr",
     "output_type": "stream",
     "text": [
      "100%|██████████| 12678/12678 [01:01<00:00, 206.30it/s]"
     ]
    },
    {
     "name": "stdout",
     "output_type": "stream",
     "text": [
      "Preprocessed 12678 files to /Users/koraygecimli/PycharmProjects/UDL_demo/wewantCNNs_project/data/train_spectrograms_even.h5\n"
     ]
    },
    {
     "name": "stderr",
     "output_type": "stream",
     "text": [
      "\n"
     ]
    }
   ],
   "execution_count": 2
  },
  {
   "metadata": {},
   "cell_type": "markdown",
   "source": "### Training",
   "id": "62d12d7539373e63"
  },
  {
   "metadata": {
    "ExecuteTime": {
     "end_time": "2025-07-30T23:51:07.743128Z",
     "start_time": "2025-07-30T23:51:07.738912Z"
    }
   },
   "cell_type": "code",
   "source": [
    "import torch\n",
    "from torch.utils.data import DataLoader\n",
    "from datasets import HDF5SpectrogramDataset\n",
    "from nf_training_script import train_model  "
   ],
   "id": "4240497fed8a9ec7",
   "outputs": [],
   "execution_count": 3
  },
  {
   "cell_type": "code",
   "id": "initial_id",
   "metadata": {
    "collapsed": true,
    "ExecuteTime": {
     "end_time": "2025-07-31T00:18:11.557299Z",
     "start_time": "2025-07-30T23:51:08.567601Z"
    }
   },
   "source": [
    "import torch\n",
    "from torch.utils.data import DataLoader\n",
    "from datasets import HDF5SpectrogramDataset\n",
    "from nf_training_script import train_model  \n",
    "\n",
    "device = torch.device('cuda' if torch.cuda.is_available() else 'cpu')\n",
    "print(f\"Using device: {device}\")\n",
    "\n",
    "train_data = HDF5SpectrogramDataset('/Users/koraygecimli/PycharmProjects/UDL_demo/wewantCNNs_project/data/train_spectrograms_even.h5')\n",
    "\n",
    "train_loader = DataLoader( # again inspired by vae model \n",
    "    train_data,\n",
    "    batch_size=32,  \n",
    "    shuffle=True,\n",
    "    pin_memory=True,\n",
    "    num_workers=0,\n",
    "    persistent_workers=False,\n",
    "    prefetch_factor=None,\n",
    ")\n",
    "\n",
    "input_dim = train_data[0].numel()\n",
    "trained_model = train_model(train_loader, input_dim=input_dim)"
   ],
   "outputs": [
    {
     "name": "stdout",
     "output_type": "stream",
     "text": [
      "Using device: cpu\n"
     ]
    },
    {
     "name": "stderr",
     "output_type": "stream",
     "text": [
      "/Users/koraygecimli/PycharmProjects/UDL_demo/.venv/lib/python3.10/site-packages/torch/utils/data/dataloader.py:683: UserWarning: 'pin_memory' argument is set as true but not supported on MPS now, then device pinned memory won't be used.\n",
      "  warnings.warn(warn_msg)\n"
     ]
    },
    {
     "name": "stdout",
     "output_type": "stream",
     "text": [
      "Epoch 1/20, Loss: -86942.2199\n",
      "Checkpoint saved at epoch 1\n",
      "Epoch 2/20, Loss: -89821.6244\n",
      "Checkpoint saved at epoch 2\n",
      "Epoch 3/20, Loss: -89835.1581\n",
      "Checkpoint saved at epoch 3\n",
      "Epoch 4/20, Loss: -89839.8678\n",
      "Checkpoint saved at epoch 4\n",
      "Epoch 5/20, Loss: -89841.4452\n",
      "Checkpoint saved at epoch 5\n",
      "Epoch 6/20, Loss: -89842.2912\n",
      "Checkpoint saved at epoch 6\n",
      "Epoch 7/20, Loss: -89843.1520\n",
      "Checkpoint saved at epoch 7\n",
      "Epoch 8/20, Loss: -89843.9581\n",
      "Checkpoint saved at epoch 8\n",
      "Epoch 9/20, Loss: -89844.7354\n",
      "Checkpoint saved at epoch 9\n",
      "Epoch 10/20, Loss: -89845.5572\n",
      "Checkpoint saved at epoch 10\n",
      "Epoch 11/20, Loss: -89846.3446\n",
      "Checkpoint saved at epoch 11\n",
      "Epoch 12/20, Loss: -89847.1391\n",
      "Checkpoint saved at epoch 12\n",
      "Epoch 13/20, Loss: -89847.9359\n",
      "Checkpoint saved at epoch 13\n",
      "Epoch 14/20, Loss: -89848.5683\n",
      "Checkpoint saved at epoch 14\n",
      "Epoch 15/20, Loss: -89848.6246\n",
      "Checkpoint saved at epoch 15\n",
      "Epoch 16/20, Loss: -89848.6289\n",
      "Checkpoint saved at epoch 16\n",
      "Epoch 17/20, Loss: -89848.6301\n",
      "Checkpoint saved at epoch 17\n",
      "Epoch 18/20, Loss: -89848.6288\n",
      "Epoch 19/20, Loss: -89848.6331\n",
      "Checkpoint saved at epoch 19\n",
      "Epoch 20/20, Loss: -89848.6332\n",
      "Checkpoint saved at epoch 20\n"
     ]
    }
   ],
   "execution_count": 4
  },
  {
   "metadata": {
    "ExecuteTime": {
     "end_time": "2025-07-30T22:51:39.619983Z",
     "start_time": "2025-07-30T22:47:42.704193Z"
    }
   },
   "cell_type": "code",
   "source": [
    "from inference import load_nf_model\n",
    "from inference import invert_flow\n",
    "\n",
    "device = torch.device(\"mps\" if torch.backends.mps.is_available() else \"cpu\")\n",
    "model = load_nf_model(device)\n",
    "z_dim = model.output_layer.out_features // 2  # oder einfach input_dim aus dem Checkpoint\n",
    "z = torch.randn(2, z_dim).to(device)  # 2 Samples aus latenten Raum\n",
    "x_samples = invert_flow(model, z, device)\n",
    "print(x_samples.shape)\n",
    "print(x_samples)"
   ],
   "id": "848f30b1dd890fc3",
   "outputs": [
    {
     "name": "stdout",
     "output_type": "stream",
     "text": [
      "torch.Size([2, 22016])\n",
      "tensor([[ 125.5509,  113.5383,   92.0724,  ...,  166.9994,  -20.2034,\n",
      "         -141.4516],\n",
      "        [-154.3873,  153.4724, -106.3017,  ..., -273.2191,  159.3956,\n",
      "         -278.9794]], device='mps:0')\n"
     ]
    }
   ],
   "execution_count": 3
  }
 ],
 "metadata": {
  "kernelspec": {
   "display_name": "Python 3",
   "language": "python",
   "name": "python3"
  },
  "language_info": {
   "codemirror_mode": {
    "name": "ipython",
    "version": 2
   },
   "file_extension": ".py",
   "mimetype": "text/x-python",
   "name": "python",
   "nbconvert_exporter": "python",
   "pygments_lexer": "ipython2",
   "version": "2.7.6"
  }
 },
 "nbformat": 4,
 "nbformat_minor": 5
}
