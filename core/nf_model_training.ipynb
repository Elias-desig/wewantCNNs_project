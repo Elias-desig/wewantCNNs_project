{
 "cells": [
  {
   "metadata": {},
   "cell_type": "markdown",
   "source": "### Loading the Data",
   "id": "742758f5fd92e00d"
  },
  {
   "metadata": {
    "ExecuteTime": {
     "end_time": "2025-07-30T22:36:07.665411Z",
     "start_time": "2025-07-30T22:36:05.264249Z"
    }
   },
   "cell_type": "code",
   "source": [
    "import os\n",
    "from audio_image_pipeline import preprocess_to_hdf5\n",
    "\n",
    "# absolute path because he somehow could not find the data otherwise idk \n",
    "# here we just have our folder that contains our audio data \n",
    "audio_folder = \"/Users/koraygecimli/PycharmProjects/UDL_demo/wewantCNNs_project/data/nsynth-valid/audio\"\n",
    "\n",
    "# this is the path where we save our converted data\n",
    "output_h5_path = \"/Users/koraygecimli/PycharmProjects/UDL_demo/wewantCNNs_project/data/train_spectrograms_even.h5\"\n",
    "\n",
    "preprocess_to_hdf5(audio_folder, output_h5_path) # turns audio data into hdf5 data "
   ],
   "id": "432146d3c83f9249",
   "outputs": [
    {
     "ename": "KeyboardInterrupt",
     "evalue": "",
     "output_type": "error",
     "traceback": [
      "\u001B[0;31m---------------------------------------------------------------------------\u001B[0m",
      "\u001B[0;31mKeyboardInterrupt\u001B[0m                         Traceback (most recent call last)",
      "Cell \u001B[0;32mIn[1], line 11\u001B[0m\n\u001B[1;32m      8\u001B[0m \u001B[38;5;66;03m# this is the path where we save our converted data\u001B[39;00m\n\u001B[1;32m      9\u001B[0m output_h5_path \u001B[38;5;241m=\u001B[39m \u001B[38;5;124m\"\u001B[39m\u001B[38;5;124m/Users/koraygecimli/PycharmProjects/UDL_demo/wewantCNNs_project/data/train_spectrograms_even.h5\u001B[39m\u001B[38;5;124m\"\u001B[39m\n\u001B[0;32m---> 11\u001B[0m \u001B[43mpreprocess_to_hdf5\u001B[49m\u001B[43m(\u001B[49m\u001B[43maudio_folder\u001B[49m\u001B[43m,\u001B[49m\u001B[43m \u001B[49m\u001B[43moutput_h5_path\u001B[49m\u001B[43m)\u001B[49m \u001B[38;5;66;03m# turns audio data into hdf5 data \u001B[39;00m\n",
      "File \u001B[0;32m~/PycharmProjects/UDL_demo/wewantCNNs_project/core/audio_image_pipeline.py:69\u001B[0m, in \u001B[0;36mpreprocess_to_hdf5\u001B[0;34m(audio_folder, output_file, even)\u001B[0m\n\u001B[1;32m     66\u001B[0m \u001B[38;5;28;01melse\u001B[39;00m:\n\u001B[1;32m     67\u001B[0m     target_frames \u001B[38;5;241m=\u001B[39m sample_frames\n\u001B[0;32m---> 69\u001B[0m \u001B[38;5;28;01mwith\u001B[39;00m \u001B[43mh5py\u001B[49m\u001B[38;5;241;43m.\u001B[39;49m\u001B[43mFile\u001B[49m\u001B[43m(\u001B[49m\u001B[43moutput_file\u001B[49m\u001B[43m,\u001B[49m\u001B[43m \u001B[49m\u001B[38;5;124;43m'\u001B[39;49m\u001B[38;5;124;43mw\u001B[39;49m\u001B[38;5;124;43m'\u001B[39;49m\u001B[43m)\u001B[49m \u001B[38;5;28;01mas\u001B[39;00m f:\n\u001B[1;32m     70\u001B[0m     \u001B[38;5;66;03m# Create dataset without compression for fastest access\u001B[39;00m\n\u001B[1;32m     71\u001B[0m     spectrograms \u001B[38;5;241m=\u001B[39m f\u001B[38;5;241m.\u001B[39mcreate_dataset(\n\u001B[1;32m     72\u001B[0m         \u001B[38;5;124m'\u001B[39m\u001B[38;5;124mspectrograms\u001B[39m\u001B[38;5;124m'\u001B[39m, \n\u001B[1;32m     73\u001B[0m         shape\u001B[38;5;241m=\u001B[39m(\u001B[38;5;28mlen\u001B[39m(audio_files), n_mels, target_frames),\n\u001B[1;32m     74\u001B[0m         dtype\u001B[38;5;241m=\u001B[39mnp\u001B[38;5;241m.\u001B[39mfloat32\n\u001B[1;32m     75\u001B[0m     )\n\u001B[1;32m     77\u001B[0m     \u001B[38;5;66;03m# Process all files at once\u001B[39;00m\n",
      "File \u001B[0;32m~/PycharmProjects/UDL_demo/.venv/lib/python3.10/site-packages/h5py/_hl/files.py:564\u001B[0m, in \u001B[0;36mFile.__init__\u001B[0;34m(self, name, mode, driver, libver, userblock_size, swmr, rdcc_nslots, rdcc_nbytes, rdcc_w0, track_order, fs_strategy, fs_persist, fs_threshold, fs_page_size, page_buf_size, min_meta_keep, min_raw_keep, locking, alignment_threshold, alignment_interval, meta_block_size, **kwds)\u001B[0m\n\u001B[1;32m    555\u001B[0m     fapl \u001B[38;5;241m=\u001B[39m make_fapl(driver, libver, rdcc_nslots, rdcc_nbytes, rdcc_w0,\n\u001B[1;32m    556\u001B[0m                      locking, page_buf_size, min_meta_keep, min_raw_keep,\n\u001B[1;32m    557\u001B[0m                      alignment_threshold\u001B[38;5;241m=\u001B[39malignment_threshold,\n\u001B[1;32m    558\u001B[0m                      alignment_interval\u001B[38;5;241m=\u001B[39malignment_interval,\n\u001B[1;32m    559\u001B[0m                      meta_block_size\u001B[38;5;241m=\u001B[39mmeta_block_size,\n\u001B[1;32m    560\u001B[0m                      \u001B[38;5;241m*\u001B[39m\u001B[38;5;241m*\u001B[39mkwds)\n\u001B[1;32m    561\u001B[0m     fcpl \u001B[38;5;241m=\u001B[39m make_fcpl(track_order\u001B[38;5;241m=\u001B[39mtrack_order, fs_strategy\u001B[38;5;241m=\u001B[39mfs_strategy,\n\u001B[1;32m    562\u001B[0m                      fs_persist\u001B[38;5;241m=\u001B[39mfs_persist, fs_threshold\u001B[38;5;241m=\u001B[39mfs_threshold,\n\u001B[1;32m    563\u001B[0m                      fs_page_size\u001B[38;5;241m=\u001B[39mfs_page_size)\n\u001B[0;32m--> 564\u001B[0m     fid \u001B[38;5;241m=\u001B[39m \u001B[43mmake_fid\u001B[49m\u001B[43m(\u001B[49m\u001B[43mname\u001B[49m\u001B[43m,\u001B[49m\u001B[43m \u001B[49m\u001B[43mmode\u001B[49m\u001B[43m,\u001B[49m\u001B[43m \u001B[49m\u001B[43muserblock_size\u001B[49m\u001B[43m,\u001B[49m\u001B[43m \u001B[49m\u001B[43mfapl\u001B[49m\u001B[43m,\u001B[49m\u001B[43m \u001B[49m\u001B[43mfcpl\u001B[49m\u001B[43m,\u001B[49m\u001B[43m \u001B[49m\u001B[43mswmr\u001B[49m\u001B[38;5;241;43m=\u001B[39;49m\u001B[43mswmr\u001B[49m\u001B[43m)\u001B[49m\n\u001B[1;32m    566\u001B[0m \u001B[38;5;28;01mif\u001B[39;00m \u001B[38;5;28misinstance\u001B[39m(libver, \u001B[38;5;28mtuple\u001B[39m):\n\u001B[1;32m    567\u001B[0m     \u001B[38;5;28mself\u001B[39m\u001B[38;5;241m.\u001B[39m_libver \u001B[38;5;241m=\u001B[39m libver\n",
      "File \u001B[0;32m~/PycharmProjects/UDL_demo/.venv/lib/python3.10/site-packages/h5py/_hl/files.py:244\u001B[0m, in \u001B[0;36mmake_fid\u001B[0;34m(name, mode, userblock_size, fapl, fcpl, swmr)\u001B[0m\n\u001B[1;32m    242\u001B[0m     fid \u001B[38;5;241m=\u001B[39m h5f\u001B[38;5;241m.\u001B[39mcreate(name, h5f\u001B[38;5;241m.\u001B[39mACC_EXCL, fapl\u001B[38;5;241m=\u001B[39mfapl, fcpl\u001B[38;5;241m=\u001B[39mfcpl)\n\u001B[1;32m    243\u001B[0m \u001B[38;5;28;01melif\u001B[39;00m mode \u001B[38;5;241m==\u001B[39m \u001B[38;5;124m'\u001B[39m\u001B[38;5;124mw\u001B[39m\u001B[38;5;124m'\u001B[39m:\n\u001B[0;32m--> 244\u001B[0m     fid \u001B[38;5;241m=\u001B[39m \u001B[43mh5f\u001B[49m\u001B[38;5;241;43m.\u001B[39;49m\u001B[43mcreate\u001B[49m\u001B[43m(\u001B[49m\u001B[43mname\u001B[49m\u001B[43m,\u001B[49m\u001B[43m \u001B[49m\u001B[43mh5f\u001B[49m\u001B[38;5;241;43m.\u001B[39;49m\u001B[43mACC_TRUNC\u001B[49m\u001B[43m,\u001B[49m\u001B[43m \u001B[49m\u001B[43mfapl\u001B[49m\u001B[38;5;241;43m=\u001B[39;49m\u001B[43mfapl\u001B[49m\u001B[43m,\u001B[49m\u001B[43m \u001B[49m\u001B[43mfcpl\u001B[49m\u001B[38;5;241;43m=\u001B[39;49m\u001B[43mfcpl\u001B[49m\u001B[43m)\u001B[49m\n\u001B[1;32m    245\u001B[0m \u001B[38;5;28;01melif\u001B[39;00m mode \u001B[38;5;241m==\u001B[39m \u001B[38;5;124m'\u001B[39m\u001B[38;5;124ma\u001B[39m\u001B[38;5;124m'\u001B[39m:\n\u001B[1;32m    246\u001B[0m     \u001B[38;5;66;03m# Open in append mode (read/write).\u001B[39;00m\n\u001B[1;32m    247\u001B[0m     \u001B[38;5;66;03m# If that fails, create a new file only if it won't clobber an\u001B[39;00m\n\u001B[1;32m    248\u001B[0m     \u001B[38;5;66;03m# existing one (ACC_EXCL)\u001B[39;00m\n\u001B[1;32m    249\u001B[0m     \u001B[38;5;28;01mtry\u001B[39;00m:\n",
      "File \u001B[0;32mh5py/_objects.pyx:56\u001B[0m, in \u001B[0;36mh5py._objects.with_phil.wrapper\u001B[0;34m()\u001B[0m\n",
      "File \u001B[0;32mh5py/_objects.pyx:57\u001B[0m, in \u001B[0;36mh5py._objects.with_phil.wrapper\u001B[0;34m()\u001B[0m\n",
      "File \u001B[0;32mh5py/h5f.pyx:122\u001B[0m, in \u001B[0;36mh5py.h5f.create\u001B[0;34m()\u001B[0m\n",
      "File \u001B[0;32mh5py/h5g.pyx:281\u001B[0m, in \u001B[0;36mh5py.h5g.GroupID.__init__\u001B[0;34m()\u001B[0m\n",
      "File \u001B[0;32mh5py/h5g.pyx:282\u001B[0m, in \u001B[0;36mh5py.h5g.GroupID.__init__\u001B[0;34m()\u001B[0m\n",
      "File \u001B[0;32m<frozen importlib._bootstrap>:404\u001B[0m, in \u001B[0;36mparent\u001B[0;34m(self)\u001B[0m\n",
      "\u001B[0;31mKeyboardInterrupt\u001B[0m: "
     ]
    }
   ],
   "execution_count": 1
  },
  {
   "metadata": {},
   "cell_type": "markdown",
   "source": "### Training",
   "id": "62d12d7539373e63"
  },
  {
   "metadata": {
    "ExecuteTime": {
     "end_time": "2025-07-30T22:44:59.233139Z",
     "start_time": "2025-07-30T22:44:58.536500Z"
    }
   },
   "cell_type": "code",
   "source": [
    "import torch\n",
    "from torch.utils.data import DataLoader\n",
    "from datasets import HDF5SpectrogramDataset\n",
    "from nf_training_script import train_model  "
   ],
   "id": "4240497fed8a9ec7",
   "outputs": [],
   "execution_count": 1
  },
  {
   "cell_type": "code",
   "id": "initial_id",
   "metadata": {
    "collapsed": true,
    "ExecuteTime": {
     "end_time": "2025-07-30T22:22:13.937726Z",
     "start_time": "2025-07-30T21:54:04.834763Z"
    }
   },
   "source": [
    "import torch\n",
    "from torch.utils.data import DataLoader\n",
    "from datasets import HDF5SpectrogramDataset\n",
    "from nf_training_script import train_model  \n",
    "\n",
    "device = torch.device('cuda' if torch.cuda.is_available() else 'cpu')\n",
    "print(f\"Using device: {device}\")\n",
    "\n",
    "train_data = HDF5SpectrogramDataset('/Users/koraygecimli/PycharmProjects/UDL_demo/wewantCNNs_project/data/train_spectrograms_even.h5')\n",
    "\n",
    "train_loader = DataLoader( # again inspired by vae model \n",
    "    train_data,\n",
    "    batch_size=32,  \n",
    "    shuffle=True,\n",
    "    pin_memory=True,\n",
    "    num_workers=0,\n",
    "    persistent_workers=False,\n",
    "    prefetch_factor=None,\n",
    ")\n",
    "\n",
    "input_dim = train_data[0].numel()\n",
    "trained_model = train_model(train_loader, input_dim=input_dim)"
   ],
   "outputs": [
    {
     "name": "stdout",
     "output_type": "stream",
     "text": [
      "Using device: cpu\n",
      "Epoch 1/20, Loss: -86984.0351\n",
      "Checkpoint saved at epoch 1\n",
      "Epoch 2/20, Loss: -89818.1605\n",
      "Checkpoint saved at epoch 2\n",
      "Epoch 3/20, Loss: -89838.4914\n",
      "Checkpoint saved at epoch 3\n",
      "Epoch 4/20, Loss: -89844.4751\n",
      "Checkpoint saved at epoch 4\n",
      "Epoch 5/20, Loss: -89847.0940\n",
      "Checkpoint saved at epoch 5\n",
      "Epoch 6/20, Loss: -89848.3866\n",
      "Checkpoint saved at epoch 6\n",
      "Epoch 7/20, Loss: -89848.5950\n",
      "Checkpoint saved at epoch 7\n",
      "Epoch 8/20, Loss: -89848.5957\n",
      "Checkpoint saved at epoch 8\n",
      "Epoch 9/20, Loss: -89848.5820\n",
      "Epoch 10/20, Loss: -89848.5974\n",
      "Checkpoint saved at epoch 10\n",
      "Epoch 11/20, Loss: -89848.6133\n",
      "Checkpoint saved at epoch 11\n",
      "Epoch 12/20, Loss: -89848.5565\n",
      "Epoch 13/20, Loss: -89848.6193\n",
      "Checkpoint saved at epoch 13\n",
      "Epoch 14/20, Loss: -89848.6191\n",
      "Epoch 15/20, Loss: -89848.6191\n",
      "Epoch 16/20, Loss: -89848.6140\n",
      "Epoch 17/20, Loss: -89848.6194\n",
      "Checkpoint saved at epoch 17\n",
      "Epoch 18/20, Loss: -89848.6161\n",
      "Epoch 19/20, Loss: -89848.6229\n",
      "Checkpoint saved at epoch 19\n",
      "Epoch 20/20, Loss: -89848.6246\n",
      "Checkpoint saved at epoch 20\n"
     ]
    }
   ],
   "execution_count": 6
  },
  {
   "metadata": {
    "ExecuteTime": {
     "end_time": "2025-07-30T22:51:39.619983Z",
     "start_time": "2025-07-30T22:47:42.704193Z"
    }
   },
   "cell_type": "code",
   "source": [
    "from inference import load_nf_model\n",
    "from inference import invert_flow\n",
    "\n",
    "device = torch.device(\"mps\" if torch.backends.mps.is_available() else \"cpu\")\n",
    "model = load_nf_model(device)\n",
    "z_dim = model.output_layer.out_features // 2  # oder einfach input_dim aus dem Checkpoint\n",
    "z = torch.randn(2, z_dim).to(device)  # 2 Samples aus latenten Raum\n",
    "x_samples = invert_flow(model, z, device)\n",
    "print(x_samples.shape)\n",
    "print(x_samples)"
   ],
   "id": "848f30b1dd890fc3",
   "outputs": [
    {
     "name": "stdout",
     "output_type": "stream",
     "text": [
      "torch.Size([2, 22016])\n",
      "tensor([[ 125.5509,  113.5383,   92.0724,  ...,  166.9994,  -20.2034,\n",
      "         -141.4516],\n",
      "        [-154.3873,  153.4724, -106.3017,  ..., -273.2191,  159.3956,\n",
      "         -278.9794]], device='mps:0')\n"
     ]
    }
   ],
   "execution_count": 3
  }
 ],
 "metadata": {
  "kernelspec": {
   "display_name": "Python 3",
   "language": "python",
   "name": "python3"
  },
  "language_info": {
   "codemirror_mode": {
    "name": "ipython",
    "version": 2
   },
   "file_extension": ".py",
   "mimetype": "text/x-python",
   "name": "python",
   "nbconvert_exporter": "python",
   "pygments_lexer": "ipython2",
   "version": "2.7.6"
  }
 },
 "nbformat": 4,
 "nbformat_minor": 5
}
