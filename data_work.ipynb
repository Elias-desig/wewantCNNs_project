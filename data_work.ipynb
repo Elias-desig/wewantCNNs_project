{
 "cells": [
  {
   "cell_type": "code",
   "id": "initial_id",
   "metadata": {
    "collapsed": true,
    "ExecuteTime": {
     "end_time": "2025-06-27T12:20:55.313476Z",
     "start_time": "2025-06-27T12:20:53.443942Z"
    }
   },
   "source": [
    "import json\n",
    "import pandas as pd\n",
    "import os\n",
    "import nf_model"
   ],
   "outputs": [],
   "execution_count": 1
  },
  {
   "metadata": {
    "ExecuteTime": {
     "end_time": "2025-06-27T12:21:09.791367Z",
     "start_time": "2025-06-27T12:21:09.735866Z"
    }
   },
   "cell_type": "code",
   "source": [
    "extract_folder = \"/Users/koraygecimli/PycharmProjects/UDL_demo/wewantCNNs_project/data\"\n",
    "json_path = os.path.join(extract_folder, \"examples-test-original 2.json\")\n",
    "\n",
    "with open(json_path, 'r') as f:\n",
    "    data = json.load(f)\n",
    "\n",
    "df = pd.DataFrame(data)\n",
    "print(df.columns)  # Spaltennamen\n",
    "print(df.iloc[0])  # Erste Zeile\n",
    "print(df.dtypes)"
   ],
   "id": "3b070696e2aa8bfc",
   "outputs": [
    {
     "name": "stdout",
     "output_type": "stream",
     "text": [
      "Index(['bass_synthetic_068-049-025', 'keyboard_electronic_001-021-127',\n",
      "       'guitar_acoustic_010-066-100', 'reed_acoustic_037-068-127',\n",
      "       'flute_acoustic_002-077-100', 'string_acoustic_056-047-075',\n",
      "       'vocal_synthetic_003-088-025', 'brass_acoustic_046-101-050',\n",
      "       'guitar_acoustic_014-070-050', 'string_acoustic_014-063-050',\n",
      "       ...\n",
      "       'mallet_acoustic_062-072-075', 'organ_electronic_028-067-100',\n",
      "       'bass_synthetic_098-055-075', 'keyboard_electronic_069-089-100',\n",
      "       'keyboard_electronic_069-054-127', 'brass_acoustic_006-088-075',\n",
      "       'organ_electronic_028-044-100', 'string_acoustic_071-027-127',\n",
      "       'string_acoustic_057-063-127', 'bass_synthetic_009-058-025'],\n",
      "      dtype='object', length=4096)\n",
      "bass_synthetic_068-049-025         [0, 1, 0, 0, 0, 0, 0, 0, 0, 0]\n",
      "keyboard_electronic_001-021-127    [0, 0, 0, 0, 0, 0, 0, 0, 0, 0]\n",
      "guitar_acoustic_010-066-100        [0, 0, 0, 0, 0, 0, 0, 0, 0, 0]\n",
      "reed_acoustic_037-068-127          [0, 0, 0, 0, 0, 0, 0, 0, 1, 0]\n",
      "flute_acoustic_002-077-100         [0, 0, 0, 0, 0, 0, 0, 0, 1, 0]\n",
      "                                                ...              \n",
      "brass_acoustic_006-088-075         [0, 0, 0, 0, 0, 0, 0, 0, 1, 0]\n",
      "organ_electronic_028-044-100       [0, 1, 0, 0, 0, 0, 0, 0, 0, 0]\n",
      "string_acoustic_071-027-127        [0, 0, 0, 0, 1, 0, 0, 0, 1, 0]\n",
      "string_acoustic_057-063-127        [1, 0, 0, 0, 0, 0, 1, 0, 1, 0]\n",
      "bass_synthetic_009-058-025         [1, 0, 1, 0, 1, 0, 0, 0, 0, 0]\n",
      "Name: qualities, Length: 4096, dtype: object\n",
      "bass_synthetic_068-049-025         object\n",
      "keyboard_electronic_001-021-127    object\n",
      "guitar_acoustic_010-066-100        object\n",
      "reed_acoustic_037-068-127          object\n",
      "flute_acoustic_002-077-100         object\n",
      "                                    ...  \n",
      "brass_acoustic_006-088-075         object\n",
      "organ_electronic_028-044-100       object\n",
      "string_acoustic_071-027-127        object\n",
      "string_acoustic_057-063-127        object\n",
      "bass_synthetic_009-058-025         object\n",
      "Length: 4096, dtype: object\n"
     ]
    }
   ],
   "execution_count": 3
  },
  {
   "metadata": {},
   "cell_type": "markdown",
   "source": "## Explaining what each column in the data menas",
   "id": "17be81baa52058cb"
  },
  {
   "metadata": {},
   "cell_type": "markdown",
   "source": [
    "\n",
    "| Index | Qualität    | Beschreibung                        |\n",
    "|-------|-------------|-----------------------------------|\n",
    "| 0     | Bright      | Klang ist hell, klar               |\n",
    "| 1     | Dark        | Klang ist dunkel, dumpf            |\n",
    "| 2     | Distorted   | Klang ist verzerrt                 |\n",
    "| 3     | Noisy       | Klang ist verrauscht               |\n",
    "| 4     | Percussive  | Klang ist perkussiv (schlagzeugartig) |\n",
    "| 5     | Sustained   | Klang ist gehalten, lang           |\n",
    "| 6     | Harmonic    | Klang enthält viele Obertöne       |\n",
    "| 7     | Metallic    | Klang klingt metallisch            |\n",
    "| 8     | Vocal       | Klang klingt wie Stimme            |\n",
    "| 9     | Other       | Andere unspezifizierte Eigenschaft |"
   ],
   "id": "67ae1a7e7237c825"
  },
  {
   "metadata": {},
   "cell_type": "code",
   "outputs": [],
   "execution_count": null,
   "source": "",
   "id": "ecc2ce87e1c610eb"
  }
 ],
 "metadata": {
  "kernelspec": {
   "display_name": "Python 3",
   "language": "python",
   "name": "python3"
  },
  "language_info": {
   "codemirror_mode": {
    "name": "ipython",
    "version": 2
   },
   "file_extension": ".py",
   "mimetype": "text/x-python",
   "name": "python",
   "nbconvert_exporter": "python",
   "pygments_lexer": "ipython2",
   "version": "2.7.6"
  }
 },
 "nbformat": 4,
 "nbformat_minor": 5
}
