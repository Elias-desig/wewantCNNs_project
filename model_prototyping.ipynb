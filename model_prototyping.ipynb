{
 "cells": [
  {
   "cell_type": "markdown",
   "id": "c64924a2",
   "metadata": {},
   "source": [
    "#### Set experiment parameters in config\n",
    "For training that terminates in a reasonable timeframe use data in sample_subset/audio.\n",
    "This is not a real dataset as it consists of 10 images, but the functionality of the code can be examined.\n",
    "The full dataset can be found here \"https://magenta.withgoogle.com/datasets/nsynth#files\" It must first be extracted, for example with the function in data_work.ipynb. To use the full dataset, preprocessing is recommend. A function for this purpose can also be found in the data_work notebook. To continue with the experiment, set the parameters of the config to something reasonable for your hardware like done bewlow:"
   ]
  },
  {
   "cell_type": "code",
   "execution_count": 1,
   "id": "d217e747",
   "metadata": {},
   "outputs": [],
   "source": [
    "from config import load_config\n",
    "config = load_config()\n",
    "#Set folder to sample dataset for prototyping\n",
    "config.data.train_audio_folder = 'data/sample_subset/audio'\n",
    "config.data.test_audio_folder = 'data/sample_subset/audio'\n",
    "config.vae.batch_size = 1"
   ]
  },
  {
   "cell_type": "code",
   "execution_count": 2,
   "id": "e8a2e9ef",
   "metadata": {},
   "outputs": [
    {
     "name": "stdout",
     "output_type": "stream",
     "text": [
      "cpu\n",
      "553616\n",
      "Epoch 1/50\n"
     ]
    },
    {
     "name": "stderr",
     "output_type": "stream",
     "text": [
      " 10%|█         | 1/10 [00:00<00:01,  6.56it/s]"
     ]
    },
    {
     "name": "stdout",
     "output_type": "stream",
     "text": [
      "Step 0 (N samples: 0), Loss: 15632.8584 (Recon: 15632.1191, KL: 0.7394) Grad: 5077.2336\n"
     ]
    },
    {
     "name": "stderr",
     "output_type": "stream",
     "text": [
      "100%|██████████| 10/10 [00:01<00:00,  6.61it/s]\n",
      "Testing: 100%|██████████| 10/10 [00:00<00:00, 14.65it/s]\n"
     ]
    },
    {
     "name": "stdout",
     "output_type": "stream",
     "text": [
      "====> Test set loss: 18946.4081 (BCE: 18878.5948, KLD: 67.8135)\n",
      "Epoch 2/50\n"
     ]
    },
    {
     "name": "stderr",
     "output_type": "stream",
     "text": [
      "100%|██████████| 10/10 [00:01<00:00,  6.10it/s]\n",
      "Testing: 100%|██████████| 10/10 [00:00<00:00, 16.48it/s]\n"
     ]
    },
    {
     "name": "stdout",
     "output_type": "stream",
     "text": [
      "====> Test set loss: 20131.7621 (BCE: 20029.1400, KLD: 102.6220)\n",
      "Epoch 3/50\n"
     ]
    },
    {
     "name": "stderr",
     "output_type": "stream",
     "text": [
      "100%|██████████| 10/10 [00:01<00:00,  6.43it/s]\n",
      "Testing: 100%|██████████| 10/10 [00:00<00:00, 15.19it/s]\n"
     ]
    },
    {
     "name": "stdout",
     "output_type": "stream",
     "text": [
      "====> Test set loss: 18911.3688 (BCE: 18819.3031, KLD: 92.0653)\n",
      "Epoch 4/50\n"
     ]
    },
    {
     "name": "stderr",
     "output_type": "stream",
     "text": [
      "100%|██████████| 10/10 [00:01<00:00,  6.28it/s]\n",
      "Testing: 100%|██████████| 10/10 [00:00<00:00, 15.53it/s]\n"
     ]
    },
    {
     "name": "stdout",
     "output_type": "stream",
     "text": [
      "====> Test set loss: 17431.7917 (BCE: 17348.4219, KLD: 83.3697)\n",
      "Epoch 5/50\n"
     ]
    },
    {
     "name": "stderr",
     "output_type": "stream",
     "text": [
      "100%|██████████| 10/10 [00:00<00:00, -60.31it/s]\n",
      "Testing: 100%|██████████| 10/10 [00:00<00:00, 12.27it/s]\n"
     ]
    },
    {
     "name": "stdout",
     "output_type": "stream",
     "text": [
      "====> Test set loss: 19565.4401 (BCE: 19464.3506, KLD: 101.0896)\n",
      "Epoch 6/50\n"
     ]
    },
    {
     "name": "stderr",
     "output_type": "stream",
     "text": [
      "100%|██████████| 10/10 [00:01<00:00,  6.22it/s]\n",
      "Testing: 100%|██████████| 10/10 [00:00<00:00, 16.23it/s]\n"
     ]
    },
    {
     "name": "stdout",
     "output_type": "stream",
     "text": [
      "====> Test set loss: 17406.1820 (BCE: 17314.8020, KLD: 91.3802)\n",
      "Epoch 7/50\n"
     ]
    },
    {
     "name": "stderr",
     "output_type": "stream",
     "text": [
      "100%|██████████| 10/10 [00:01<00:00,  7.00it/s]\n",
      "Testing: 100%|██████████| 10/10 [00:00<00:00, 13.91it/s]\n"
     ]
    },
    {
     "name": "stdout",
     "output_type": "stream",
     "text": [
      "====> Test set loss: 18065.6438 (BCE: 17976.2696, KLD: 89.3743)\n",
      "Epoch 8/50\n"
     ]
    },
    {
     "name": "stderr",
     "output_type": "stream",
     "text": [
      "100%|██████████| 10/10 [00:01<00:00,  6.23it/s]\n",
      "Testing: 100%|██████████| 10/10 [00:00<00:00, 14.46it/s]\n"
     ]
    },
    {
     "name": "stdout",
     "output_type": "stream",
     "text": [
      "====> Test set loss: 20151.1259 (BCE: 20039.4933, KLD: 111.6328)\n",
      "Epoch 9/50\n"
     ]
    },
    {
     "name": "stderr",
     "output_type": "stream",
     "text": [
      "100%|██████████| 10/10 [00:01<00:00,  6.06it/s]\n",
      "Testing: 100%|██████████| 10/10 [00:00<00:00, 13.65it/s]\n"
     ]
    },
    {
     "name": "stdout",
     "output_type": "stream",
     "text": [
      "====> Test set loss: 20240.3949 (BCE: 20082.9938, KLD: 157.4009)\n",
      "Epoch 10/50\n"
     ]
    },
    {
     "name": "stderr",
     "output_type": "stream",
     "text": [
      "100%|██████████| 10/10 [00:01<00:00,  6.21it/s]\n",
      "Testing: 100%|██████████| 10/10 [00:00<00:00, 15.76it/s]\n"
     ]
    },
    {
     "name": "stdout",
     "output_type": "stream",
     "text": [
      "====> Test set loss: 20659.0895 (BCE: 20522.9095, KLD: 136.1800)\n",
      "Epoch 11/50\n"
     ]
    },
    {
     "name": "stderr",
     "output_type": "stream",
     "text": [
      " 20%|██        | 2/10 [00:00<00:01,  5.06it/s]"
     ]
    },
    {
     "name": "stdout",
     "output_type": "stream",
     "text": [
      "Step 100 (N samples: 100), Loss: 30248.2031 (Recon: 30033.3438, KL: 214.8595) Grad: 79670.5316\n"
     ]
    },
    {
     "name": "stderr",
     "output_type": "stream",
     "text": [
      "100%|██████████| 10/10 [00:01<00:00,  6.12it/s]\n",
      "Testing: 100%|██████████| 10/10 [00:00<00:00, 15.61it/s]\n"
     ]
    },
    {
     "name": "stdout",
     "output_type": "stream",
     "text": [
      "====> Test set loss: 16459.6914 (BCE: 16331.4724, KLD: 128.2191)\n",
      "Epoch 12/50\n"
     ]
    },
    {
     "name": "stderr",
     "output_type": "stream",
     "text": [
      "100%|██████████| 10/10 [00:01<00:00,  5.65it/s]\n",
      "Testing: 100%|██████████| 10/10 [00:00<00:00, 14.57it/s]\n"
     ]
    },
    {
     "name": "stdout",
     "output_type": "stream",
     "text": [
      "====> Test set loss: 12859.6234 (BCE: 12762.5297, KLD: 97.0938)\n",
      "Epoch 13/50\n"
     ]
    },
    {
     "name": "stderr",
     "output_type": "stream",
     "text": [
      "100%|██████████| 10/10 [00:01<00:00,  6.02it/s]\n",
      "Testing: 100%|██████████| 10/10 [00:00<00:00, 10.09it/s]\n"
     ]
    },
    {
     "name": "stdout",
     "output_type": "stream",
     "text": [
      "====> Test set loss: 12638.0760 (BCE: 12506.2659, KLD: 131.8101)\n",
      "Epoch 14/50\n"
     ]
    },
    {
     "name": "stderr",
     "output_type": "stream",
     "text": [
      "100%|██████████| 10/10 [00:01<00:00,  5.23it/s]\n",
      "Testing: 100%|██████████| 10/10 [00:00<00:00, 10.62it/s]\n"
     ]
    },
    {
     "name": "stdout",
     "output_type": "stream",
     "text": [
      "====> Test set loss: 12899.5706 (BCE: 12741.5717, KLD: 157.9987)\n",
      "Epoch 15/50\n"
     ]
    },
    {
     "name": "stderr",
     "output_type": "stream",
     "text": [
      "100%|██████████| 10/10 [00:01<00:00,  6.32it/s]\n",
      "Testing: 100%|██████████| 10/10 [00:00<00:00, 12.10it/s]\n"
     ]
    },
    {
     "name": "stdout",
     "output_type": "stream",
     "text": [
      "====> Test set loss: 10561.7107 (BCE: 10408.1256, KLD: 153.5852)\n",
      "Epoch 16/50\n"
     ]
    },
    {
     "name": "stderr",
     "output_type": "stream",
     "text": [
      "100%|██████████| 10/10 [00:01<00:00,  6.10it/s]\n",
      "Testing: 100%|██████████| 10/10 [00:00<00:00, 11.03it/s]\n"
     ]
    },
    {
     "name": "stdout",
     "output_type": "stream",
     "text": [
      "====> Test set loss: 12454.6617 (BCE: 12282.6108, KLD: 172.0509)\n",
      "Epoch 17/50\n"
     ]
    },
    {
     "name": "stderr",
     "output_type": "stream",
     "text": [
      "100%|██████████| 10/10 [00:02<00:00,  4.36it/s]\n",
      "Testing: 100%|██████████| 10/10 [00:00<00:00, 10.63it/s]\n"
     ]
    },
    {
     "name": "stdout",
     "output_type": "stream",
     "text": [
      "====> Test set loss: 9671.2968 (BCE: 9508.5149, KLD: 162.7818)\n",
      "Epoch 18/50\n"
     ]
    },
    {
     "name": "stderr",
     "output_type": "stream",
     "text": [
      "100%|██████████| 10/10 [00:02<00:00,  4.28it/s]\n",
      "Testing: 100%|██████████| 10/10 [00:01<00:00,  8.41it/s]\n"
     ]
    },
    {
     "name": "stdout",
     "output_type": "stream",
     "text": [
      "====> Test set loss: 10719.5901 (BCE: 10533.8019, KLD: 185.7883)\n",
      "Epoch 19/50\n"
     ]
    },
    {
     "name": "stderr",
     "output_type": "stream",
     "text": [
      "100%|██████████| 10/10 [00:02<00:00,  4.78it/s]\n",
      "Testing: 100%|██████████| 10/10 [00:01<00:00,  8.78it/s]\n"
     ]
    },
    {
     "name": "stdout",
     "output_type": "stream",
     "text": [
      "====> Test set loss: 9279.0375 (BCE: 9096.7241, KLD: 182.3135)\n",
      "Epoch 20/50\n"
     ]
    },
    {
     "name": "stderr",
     "output_type": "stream",
     "text": [
      "100%|██████████| 10/10 [00:01<00:00,  6.03it/s]\n",
      "Testing: 100%|██████████| 10/10 [00:00<00:00, 10.55it/s]\n"
     ]
    },
    {
     "name": "stdout",
     "output_type": "stream",
     "text": [
      "====> Test set loss: 8153.6005 (BCE: 7976.5061, KLD: 177.0945)\n",
      "Epoch 21/50\n"
     ]
    },
    {
     "name": "stderr",
     "output_type": "stream",
     "text": [
      " 20%|██        | 2/10 [00:00<00:01,  4.24it/s]"
     ]
    },
    {
     "name": "stdout",
     "output_type": "stream",
     "text": [
      "Step 200 (N samples: 200), Loss: 14599.2227 (Recon: 14405.1387, KL: 194.0838) Grad: 32417.5825\n"
     ]
    },
    {
     "name": "stderr",
     "output_type": "stream",
     "text": [
      "100%|██████████| 10/10 [00:01<00:00,  5.61it/s]\n",
      "Testing: 100%|██████████| 10/10 [00:00<00:00, 16.99it/s]\n"
     ]
    },
    {
     "name": "stdout",
     "output_type": "stream",
     "text": [
      "====> Test set loss: 9438.5812 (BCE: 9240.4097, KLD: 198.1715)\n",
      "Epoch 22/50\n"
     ]
    },
    {
     "name": "stderr",
     "output_type": "stream",
     "text": [
      "100%|██████████| 10/10 [00:01<00:00,  5.65it/s]\n",
      "Testing: 100%|██████████| 10/10 [00:00<00:00, 11.65it/s]\n"
     ]
    },
    {
     "name": "stdout",
     "output_type": "stream",
     "text": [
      "====> Test set loss: 8724.9731 (BCE: 8546.6615, KLD: 178.3117)\n",
      "Epoch 23/50\n"
     ]
    },
    {
     "name": "stderr",
     "output_type": "stream",
     "text": [
      "100%|██████████| 10/10 [00:01<00:00,  6.22it/s]\n",
      "Testing: 100%|██████████| 10/10 [00:00<00:00, 11.43it/s]\n"
     ]
    },
    {
     "name": "stdout",
     "output_type": "stream",
     "text": [
      "====> Test set loss: 7843.7471 (BCE: 7674.3520, KLD: 169.3952)\n",
      "Epoch 24/50\n"
     ]
    },
    {
     "name": "stderr",
     "output_type": "stream",
     "text": [
      "100%|██████████| 10/10 [00:01<00:00,  7.47it/s]\n",
      "Testing: 100%|██████████| 10/10 [00:00<00:00, 19.28it/s]\n"
     ]
    },
    {
     "name": "stdout",
     "output_type": "stream",
     "text": [
      "====> Test set loss: 12983.0275 (BCE: 12779.5769, KLD: 203.4507)\n",
      "Epoch 25/50\n"
     ]
    },
    {
     "name": "stderr",
     "output_type": "stream",
     "text": [
      "100%|██████████| 10/10 [00:01<00:00,  6.20it/s]\n",
      "Testing: 100%|██████████| 10/10 [00:00<00:00, 15.87it/s]\n"
     ]
    },
    {
     "name": "stdout",
     "output_type": "stream",
     "text": [
      "====> Test set loss: 8955.5525 (BCE: 8732.0964, KLD: 223.4560)\n",
      "Epoch 26/50\n"
     ]
    },
    {
     "name": "stderr",
     "output_type": "stream",
     "text": [
      "100%|██████████| 10/10 [00:01<00:00,  6.50it/s]\n",
      "Testing: 100%|██████████| 10/10 [00:00<00:00, 14.58it/s]\n"
     ]
    },
    {
     "name": "stdout",
     "output_type": "stream",
     "text": [
      "====> Test set loss: 7544.5906 (BCE: 7362.1172, KLD: 182.4732)\n",
      "Epoch 27/50\n"
     ]
    },
    {
     "name": "stderr",
     "output_type": "stream",
     "text": [
      "100%|██████████| 10/10 [00:00<00:00, -24.63it/s]\n",
      "Testing: 100%|██████████| 10/10 [00:00<00:00, 16.66it/s]\n"
     ]
    },
    {
     "name": "stdout",
     "output_type": "stream",
     "text": [
      "====> Test set loss: 7973.3680 (BCE: 7797.8438, KLD: 175.5243)\n",
      "Epoch 28/50\n"
     ]
    },
    {
     "name": "stderr",
     "output_type": "stream",
     "text": [
      "100%|██████████| 10/10 [00:01<00:00,  7.72it/s]\n",
      "Testing: 100%|██████████| 10/10 [00:00<00:00, 20.04it/s]\n"
     ]
    },
    {
     "name": "stdout",
     "output_type": "stream",
     "text": [
      "====> Test set loss: 7517.7228 (BCE: 7370.2392, KLD: 147.4837)\n",
      "Epoch 29/50\n"
     ]
    },
    {
     "name": "stderr",
     "output_type": "stream",
     "text": [
      "100%|██████████| 10/10 [00:01<00:00,  5.97it/s]\n",
      "Testing: 100%|██████████| 10/10 [00:00<00:00, 13.02it/s]\n"
     ]
    },
    {
     "name": "stdout",
     "output_type": "stream",
     "text": [
      "====> Test set loss: 8230.1447 (BCE: 8061.9951, KLD: 168.1497)\n",
      "Epoch 30/50\n"
     ]
    },
    {
     "name": "stderr",
     "output_type": "stream",
     "text": [
      "100%|██████████| 10/10 [00:01<00:00,  5.89it/s]\n",
      "Testing: 100%|██████████| 10/10 [00:00<00:00, 12.39it/s]\n"
     ]
    },
    {
     "name": "stdout",
     "output_type": "stream",
     "text": [
      "====> Test set loss: 8684.4619 (BCE: 8496.3287, KLD: 188.1332)\n",
      "Epoch 31/50\n"
     ]
    },
    {
     "name": "stderr",
     "output_type": "stream",
     "text": [
      " 20%|██        | 2/10 [00:00<00:01,  4.58it/s]"
     ]
    },
    {
     "name": "stdout",
     "output_type": "stream",
     "text": [
      "Step 300 (N samples: 300), Loss: 2558.4314 (Recon: 2411.8977, KL: 146.5337) Grad: 1177.9369\n"
     ]
    },
    {
     "name": "stderr",
     "output_type": "stream",
     "text": [
      "100%|██████████| 10/10 [00:01<00:00,  5.28it/s]\n",
      "Testing: 100%|██████████| 10/10 [00:00<00:00, 11.46it/s]\n"
     ]
    },
    {
     "name": "stdout",
     "output_type": "stream",
     "text": [
      "====> Test set loss: 8151.9957 (BCE: 7982.5300, KLD: 169.4657)\n",
      "Epoch 32/50\n"
     ]
    },
    {
     "name": "stderr",
     "output_type": "stream",
     "text": [
      "100%|██████████| 10/10 [00:01<00:00,  5.77it/s]\n",
      "Testing: 100%|██████████| 10/10 [00:00<00:00, 11.40it/s]\n"
     ]
    },
    {
     "name": "stdout",
     "output_type": "stream",
     "text": [
      "====> Test set loss: 9408.6970 (BCE: 9219.6446, KLD: 189.0524)\n",
      "Epoch 33/50\n"
     ]
    },
    {
     "name": "stderr",
     "output_type": "stream",
     "text": [
      "100%|██████████| 10/10 [00:01<00:00,  6.25it/s]\n",
      "Testing: 100%|██████████| 10/10 [00:00<00:00, 13.12it/s]\n"
     ]
    },
    {
     "name": "stdout",
     "output_type": "stream",
     "text": [
      "====> Test set loss: 7963.1147 (BCE: 7796.7567, KLD: 166.3581)\n",
      "Epoch 34/50\n"
     ]
    },
    {
     "name": "stderr",
     "output_type": "stream",
     "text": [
      "100%|██████████| 10/10 [00:01<00:00,  5.72it/s]\n",
      "Testing: 100%|██████████| 10/10 [00:00<00:00, 13.54it/s]\n"
     ]
    },
    {
     "name": "stdout",
     "output_type": "stream",
     "text": [
      "====> Test set loss: 7468.5850 (BCE: 7311.6369, KLD: 156.9480)\n",
      "Epoch 35/50\n"
     ]
    },
    {
     "name": "stderr",
     "output_type": "stream",
     "text": [
      "100%|██████████| 10/10 [00:01<00:00,  6.04it/s]\n",
      "Testing: 100%|██████████| 10/10 [00:00<00:00, 13.50it/s]\n"
     ]
    },
    {
     "name": "stdout",
     "output_type": "stream",
     "text": [
      "====> Test set loss: 7414.6967 (BCE: 7244.6378, KLD: 170.0590)\n",
      "Epoch 36/50\n"
     ]
    },
    {
     "name": "stderr",
     "output_type": "stream",
     "text": [
      "100%|██████████| 10/10 [00:01<00:00,  6.52it/s]\n",
      "Testing: 100%|██████████| 10/10 [00:00<00:00, 16.44it/s]\n"
     ]
    },
    {
     "name": "stdout",
     "output_type": "stream",
     "text": [
      "====> Test set loss: 12192.5701 (BCE: 12005.0431, KLD: 187.5270)\n",
      "Epoch 37/50\n"
     ]
    },
    {
     "name": "stderr",
     "output_type": "stream",
     "text": [
      "100%|██████████| 10/10 [00:02<00:00,  4.31it/s]\n",
      "Testing: 100%|██████████| 10/10 [00:01<00:00,  7.06it/s]\n"
     ]
    },
    {
     "name": "stdout",
     "output_type": "stream",
     "text": [
      "====> Test set loss: 9078.3391 (BCE: 8916.3754, KLD: 161.9636)\n",
      "Epoch 38/50\n"
     ]
    },
    {
     "name": "stderr",
     "output_type": "stream",
     "text": [
      "100%|██████████| 10/10 [00:00<00:00, -65.63it/s]\n",
      "Testing: 100%|██████████| 10/10 [00:00<00:00, 10.88it/s]\n"
     ]
    },
    {
     "name": "stdout",
     "output_type": "stream",
     "text": [
      "====> Test set loss: 7607.0747 (BCE: 7447.6195, KLD: 159.4553)\n",
      "Epoch 39/50\n"
     ]
    },
    {
     "name": "stderr",
     "output_type": "stream",
     "text": [
      "100%|██████████| 10/10 [00:01<00:00,  6.44it/s]\n",
      "Testing: 100%|██████████| 10/10 [00:00<00:00, 17.67it/s]\n"
     ]
    },
    {
     "name": "stdout",
     "output_type": "stream",
     "text": [
      "====> Test set loss: 9019.8256 (BCE: 8856.8662, KLD: 162.9594)\n",
      "Epoch 40/50\n"
     ]
    },
    {
     "name": "stderr",
     "output_type": "stream",
     "text": [
      "100%|██████████| 10/10 [00:01<00:00,  6.28it/s]\n",
      "Testing: 100%|██████████| 10/10 [00:00<00:00, 16.45it/s]\n"
     ]
    },
    {
     "name": "stdout",
     "output_type": "stream",
     "text": [
      "====> Test set loss: 27561.7455 (BCE: 27365.8458, KLD: 195.8994)\n",
      "Epoch 41/50\n"
     ]
    },
    {
     "name": "stderr",
     "output_type": "stream",
     "text": [
      " 10%|█         | 1/10 [00:00<00:02,  3.64it/s]"
     ]
    },
    {
     "name": "stdout",
     "output_type": "stream",
     "text": [
      "Step 400 (N samples: 400), Loss: 2179.1748 (Recon: 2041.3698, KL: 137.8051) Grad: 447.6289\n"
     ]
    },
    {
     "name": "stderr",
     "output_type": "stream",
     "text": [
      "100%|██████████| 10/10 [00:01<00:00,  6.41it/s]\n",
      "Testing: 100%|██████████| 10/10 [00:00<00:00, 12.75it/s]\n"
     ]
    },
    {
     "name": "stdout",
     "output_type": "stream",
     "text": [
      "====> Test set loss: 9462.7463 (BCE: 9159.2445, KLD: 303.5018)\n",
      "Epoch 42/50\n"
     ]
    },
    {
     "name": "stderr",
     "output_type": "stream",
     "text": [
      "100%|██████████| 10/10 [00:01<00:00,  7.32it/s]\n",
      "Testing: 100%|██████████| 10/10 [00:00<00:00, 18.85it/s]\n"
     ]
    },
    {
     "name": "stdout",
     "output_type": "stream",
     "text": [
      "====> Test set loss: 8566.7581 (BCE: 8396.0324, KLD: 170.7258)\n",
      "Epoch 43/50\n"
     ]
    },
    {
     "name": "stderr",
     "output_type": "stream",
     "text": [
      "100%|██████████| 10/10 [00:01<00:00,  6.19it/s]\n",
      "Testing: 100%|██████████| 10/10 [00:00<00:00, 13.03it/s]\n"
     ]
    },
    {
     "name": "stdout",
     "output_type": "stream",
     "text": [
      "====> Test set loss: 8311.8824 (BCE: 8143.7568, KLD: 168.1256)\n",
      "Epoch 44/50\n"
     ]
    },
    {
     "name": "stderr",
     "output_type": "stream",
     "text": [
      "100%|██████████| 10/10 [00:01<00:00,  5.72it/s]\n",
      "Testing: 100%|██████████| 10/10 [00:00<00:00, 13.16it/s]\n"
     ]
    },
    {
     "name": "stdout",
     "output_type": "stream",
     "text": [
      "====> Test set loss: 7478.6506 (BCE: 7337.1939, KLD: 141.4566)\n",
      "Epoch 45/50\n"
     ]
    },
    {
     "name": "stderr",
     "output_type": "stream",
     "text": [
      "100%|██████████| 10/10 [00:01<00:00,  5.94it/s]\n",
      "Testing: 100%|██████████| 10/10 [00:00<00:00, 14.80it/s]\n"
     ]
    },
    {
     "name": "stdout",
     "output_type": "stream",
     "text": [
      "====> Test set loss: 8052.1881 (BCE: 7894.6002, KLD: 157.5879)\n",
      "Epoch 46/50\n"
     ]
    },
    {
     "name": "stderr",
     "output_type": "stream",
     "text": [
      "100%|██████████| 10/10 [00:01<00:00,  6.74it/s]\n",
      "Testing: 100%|██████████| 10/10 [00:00<00:00, 13.76it/s]\n"
     ]
    },
    {
     "name": "stdout",
     "output_type": "stream",
     "text": [
      "====> Test set loss: 9414.3349 (BCE: 9258.6269, KLD: 155.7083)\n",
      "Epoch 47/50\n"
     ]
    },
    {
     "name": "stderr",
     "output_type": "stream",
     "text": [
      "100%|██████████| 10/10 [00:01<00:00,  5.79it/s]\n",
      "Testing: 100%|██████████| 10/10 [00:00<00:00, 14.65it/s]\n"
     ]
    },
    {
     "name": "stdout",
     "output_type": "stream",
     "text": [
      "====> Test set loss: 8570.8460 (BCE: 8413.7873, KLD: 157.0587)\n",
      "Epoch 48/50\n"
     ]
    },
    {
     "name": "stderr",
     "output_type": "stream",
     "text": [
      "100%|██████████| 10/10 [00:01<00:00,  5.79it/s]\n",
      "Testing: 100%|██████████| 10/10 [00:00<00:00, 17.75it/s]\n"
     ]
    },
    {
     "name": "stdout",
     "output_type": "stream",
     "text": [
      "====> Test set loss: 8907.7021 (BCE: 8761.0261, KLD: 146.6759)\n",
      "Epoch 49/50\n"
     ]
    },
    {
     "name": "stderr",
     "output_type": "stream",
     "text": [
      "100%|██████████| 10/10 [00:01<00:00,  6.04it/s]\n",
      "Testing: 100%|██████████| 10/10 [00:00<00:00, 11.59it/s]\n"
     ]
    },
    {
     "name": "stdout",
     "output_type": "stream",
     "text": [
      "====> Test set loss: 8108.2153 (BCE: 7953.4838, KLD: 154.7314)\n",
      "Epoch 50/50\n"
     ]
    },
    {
     "name": "stderr",
     "output_type": "stream",
     "text": [
      "100%|██████████| 10/10 [00:00<00:00, -37.14it/s]\n",
      "Testing: 100%|██████████| 10/10 [00:00<00:00, 17.87it/s]\n"
     ]
    },
    {
     "name": "stdout",
     "output_type": "stream",
     "text": [
      "====> Test set loss: 9988.0386 (BCE: 9813.5148, KLD: 174.5235)\n"
     ]
    }
   ],
   "source": [
    "from train_vae import train, test\n",
    "from datasets import SpectogramDataset\n",
    "from VAE_models import VAE, count_parameters\n",
    "\n",
    "from datetime import datetime\n",
    "import os\n",
    "\n",
    "from torch.utils.data import Dataset, DataLoader\n",
    "from torch.utils.tensorboard import SummaryWriter\n",
    "import torch\n",
    "\n",
    "\n",
    "train_data = SpectogramDataset(config.data.train_audio_folder)\n",
    "test_data = SpectogramDataset(config.data.test_audio_folder)\n",
    "train_loader = DataLoader(train_data, batch_size=config.vae.batch_size, shuffle=True)\n",
    "test_loader = DataLoader(test_data, batch_size=config.vae.batch_size, shuffle=False)\n",
    "\n",
    "sample_spec = train_data[0] # Sample spectogram \n",
    "in_dim = sample_spec.numel() # For spectograms = width * height\n",
    "\n",
    "timestamp = datetime.now().strftime(\"%Y%m%d-%H%M%S\")\n",
    "log_dir = os.path.join(config.log_dir, timestamp)\n",
    "os.makedirs(log_dir, exist_ok=True)\n",
    "\n",
    "device = torch.device('cuda' if torch.cuda.is_available() else 'cpu')\n",
    "print(device)\n",
    "model = VAE(in_dim, config.vae.latent_dim, config.vae.n_layers).to(device)\n",
    "print(count_parameters(model))\n",
    "\n",
    "optimizer = torch.optim.Adam(model.parameters(), lr=config.vae.lr)\n",
    "writer = SummaryWriter(log_dir)\n",
    "prev_updates = 0\n",
    "for epoch in range(config.vae.epochs):\n",
    "    print(f'Epoch {epoch+1}/{config.vae.epochs}')\n",
    "    prev_updates = train(model, train_loader, optimizer, prev_updates, config, device=device, writer=writer)\n",
    "    test(model, test_loader, prev_updates, config, device, writer=writer)\n"
   ]
  },
  {
   "cell_type": "code",
   "execution_count": null,
   "id": "eeab005a",
   "metadata": {},
   "outputs": [],
   "source": []
  }
 ],
 "metadata": {
  "kernelspec": {
   "display_name": "VAE_NF_env",
   "language": "python",
   "name": "python3"
  },
  "language_info": {
   "codemirror_mode": {
    "name": "ipython",
    "version": 3
   },
   "file_extension": ".py",
   "mimetype": "text/x-python",
   "name": "python",
   "nbconvert_exporter": "python",
   "pygments_lexer": "ipython3",
   "version": "3.12.3"
  }
 },
 "nbformat": 4,
 "nbformat_minor": 5
}
